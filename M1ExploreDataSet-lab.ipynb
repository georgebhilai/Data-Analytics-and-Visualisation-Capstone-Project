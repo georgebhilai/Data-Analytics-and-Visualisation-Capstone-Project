{
 "cells": [
  {
   "cell_type": "markdown",
   "metadata": {},
   "source": [
    "<p style=\"text-align:center\">\n",
    "    <a href=\"https://skills.network/?utm_medium=Exinfluencer&utm_source=Exinfluencer&utm_content=000026UJ&utm_term=10006555&utm_id=NA-SkillsNetwork-Channel-SkillsNetworkCoursesIBMDA0321ENSkillsNetwork928-2023-01-01\">\n",
    "    <img src=\"https://cf-courses-data.s3.us.cloud-object-storage.appdomain.cloud/assets/logos/SN_web_lightmode.png\" width=\"200\" alt=\"Skills Network Logo\"  />\n",
    "    </a>\n",
    "</p>\n"
   ]
  },
  {
   "cell_type": "markdown",
   "metadata": {},
   "source": [
    "# **2020 Survey Dataset Exploration Lab**\n",
    "\n"
   ]
  },
  {
   "cell_type": "markdown",
   "metadata": {},
   "source": [
    "Estimated time needed: **30** minutes\n"
   ]
  },
  {
   "cell_type": "markdown",
   "metadata": {},
   "source": [
    "## Objectives\n"
   ]
  },
  {
   "cell_type": "markdown",
   "metadata": {},
   "source": [
    "After completing this lab you will be able to:\n"
   ]
  },
  {
   "cell_type": "markdown",
   "metadata": {},
   "source": [
    "-   Load the dataset that will used thru the capstone project.\n",
    "-   Explore the dataset.\n",
    "-   Get familier with the data types.\n"
   ]
  },
  {
   "cell_type": "markdown",
   "metadata": {},
   "source": [
    "## Load the dataset\n"
   ]
  },
  {
   "cell_type": "markdown",
   "metadata": {},
   "source": [
    "Import the required libraries.\n"
   ]
  },
  {
   "cell_type": "code",
   "execution_count": 1,
   "metadata": {
    "tags": []
   },
   "outputs": [],
   "source": [
    "import pandas as pd"
   ]
  },
  {
   "cell_type": "markdown",
   "metadata": {},
   "source": [
    "The dataset is available on the IBM Cloud at the below url.\n"
   ]
  },
  {
   "cell_type": "code",
   "execution_count": 2,
   "metadata": {
    "tags": []
   },
   "outputs": [],
   "source": [
    "dataset_url = \"https://cf-courses-data.s3.us.cloud-object-storage.appdomain.cloud/IBM-DA0321EN-SkillsNetwork/labs/Capstone_edX/Module%201/survey_results_public_2020.csv\""
   ]
  },
  {
   "cell_type": "markdown",
   "metadata": {},
   "source": [
    "Load the data available at dataset_url into a dataframe.\n"
   ]
  },
  {
   "cell_type": "code",
   "execution_count": 3,
   "metadata": {
    "tags": []
   },
   "outputs": [],
   "source": [
    "# your code goes here\n",
    "df_survey = pd.read_csv(dataset_url)"
   ]
  },
  {
   "cell_type": "markdown",
   "metadata": {},
   "source": [
    "## Explore the data set\n"
   ]
  },
  {
   "cell_type": "markdown",
   "metadata": {},
   "source": [
    "It is a good idea to print the top 5 rows of the dataset to get a feel of how the dataset will look.\n"
   ]
  },
  {
   "cell_type": "markdown",
   "metadata": {},
   "source": [
    "Display the top 5 rows and columns from your dataset.\n"
   ]
  },
  {
   "cell_type": "code",
   "execution_count": 4,
   "metadata": {
    "tags": []
   },
   "outputs": [
    {
     "data": {
      "text/html": [
       "<div>\n",
       "<style scoped>\n",
       "    .dataframe tbody tr th:only-of-type {\n",
       "        vertical-align: middle;\n",
       "    }\n",
       "\n",
       "    .dataframe tbody tr th {\n",
       "        vertical-align: top;\n",
       "    }\n",
       "\n",
       "    .dataframe thead th {\n",
       "        text-align: right;\n",
       "    }\n",
       "</style>\n",
       "<table border=\"1\" class=\"dataframe\">\n",
       "  <thead>\n",
       "    <tr style=\"text-align: right;\">\n",
       "      <th></th>\n",
       "      <th>Respondent</th>\n",
       "      <th>MainBranch</th>\n",
       "      <th>Hobbyist</th>\n",
       "      <th>Age</th>\n",
       "      <th>Age1stCode</th>\n",
       "      <th>CompFreq</th>\n",
       "      <th>CompTotal</th>\n",
       "      <th>ConvertedComp</th>\n",
       "      <th>Country</th>\n",
       "      <th>CurrencyDesc</th>\n",
       "      <th>...</th>\n",
       "      <th>SurveyEase</th>\n",
       "      <th>SurveyLength</th>\n",
       "      <th>Trans</th>\n",
       "      <th>UndergradMajor</th>\n",
       "      <th>WebframeDesireNextYear</th>\n",
       "      <th>WebframeWorkedWith</th>\n",
       "      <th>WelcomeChange</th>\n",
       "      <th>WorkWeekHrs</th>\n",
       "      <th>YearsCode</th>\n",
       "      <th>YearsCodePro</th>\n",
       "    </tr>\n",
       "  </thead>\n",
       "  <tbody>\n",
       "    <tr>\n",
       "      <th>0</th>\n",
       "      <td>1</td>\n",
       "      <td>I am a developer by profession</td>\n",
       "      <td>Yes</td>\n",
       "      <td>NaN</td>\n",
       "      <td>13</td>\n",
       "      <td>Monthly</td>\n",
       "      <td>NaN</td>\n",
       "      <td>NaN</td>\n",
       "      <td>Germany</td>\n",
       "      <td>European Euro</td>\n",
       "      <td>...</td>\n",
       "      <td>Neither easy nor difficult</td>\n",
       "      <td>Appropriate in length</td>\n",
       "      <td>No</td>\n",
       "      <td>Computer science, computer engineering, or sof...</td>\n",
       "      <td>ASP.NET Core</td>\n",
       "      <td>ASP.NET;ASP.NET Core</td>\n",
       "      <td>Just as welcome now as I felt last year</td>\n",
       "      <td>50.0</td>\n",
       "      <td>36</td>\n",
       "      <td>27</td>\n",
       "    </tr>\n",
       "    <tr>\n",
       "      <th>1</th>\n",
       "      <td>2</td>\n",
       "      <td>I am a developer by profession</td>\n",
       "      <td>No</td>\n",
       "      <td>NaN</td>\n",
       "      <td>19</td>\n",
       "      <td>NaN</td>\n",
       "      <td>NaN</td>\n",
       "      <td>NaN</td>\n",
       "      <td>United Kingdom</td>\n",
       "      <td>Pound sterling</td>\n",
       "      <td>...</td>\n",
       "      <td>NaN</td>\n",
       "      <td>NaN</td>\n",
       "      <td>NaN</td>\n",
       "      <td>Computer science, computer engineering, or sof...</td>\n",
       "      <td>NaN</td>\n",
       "      <td>NaN</td>\n",
       "      <td>Somewhat more welcome now than last year</td>\n",
       "      <td>NaN</td>\n",
       "      <td>7</td>\n",
       "      <td>4</td>\n",
       "    </tr>\n",
       "    <tr>\n",
       "      <th>2</th>\n",
       "      <td>3</td>\n",
       "      <td>I code primarily as a hobby</td>\n",
       "      <td>Yes</td>\n",
       "      <td>NaN</td>\n",
       "      <td>15</td>\n",
       "      <td>NaN</td>\n",
       "      <td>NaN</td>\n",
       "      <td>NaN</td>\n",
       "      <td>Russian Federation</td>\n",
       "      <td>NaN</td>\n",
       "      <td>...</td>\n",
       "      <td>Neither easy nor difficult</td>\n",
       "      <td>Appropriate in length</td>\n",
       "      <td>NaN</td>\n",
       "      <td>NaN</td>\n",
       "      <td>NaN</td>\n",
       "      <td>NaN</td>\n",
       "      <td>Somewhat more welcome now than last year</td>\n",
       "      <td>NaN</td>\n",
       "      <td>4</td>\n",
       "      <td>NaN</td>\n",
       "    </tr>\n",
       "    <tr>\n",
       "      <th>3</th>\n",
       "      <td>4</td>\n",
       "      <td>I am a developer by profession</td>\n",
       "      <td>Yes</td>\n",
       "      <td>25.0</td>\n",
       "      <td>18</td>\n",
       "      <td>NaN</td>\n",
       "      <td>NaN</td>\n",
       "      <td>NaN</td>\n",
       "      <td>Albania</td>\n",
       "      <td>Albanian lek</td>\n",
       "      <td>...</td>\n",
       "      <td>NaN</td>\n",
       "      <td>NaN</td>\n",
       "      <td>No</td>\n",
       "      <td>Computer science, computer engineering, or sof...</td>\n",
       "      <td>NaN</td>\n",
       "      <td>NaN</td>\n",
       "      <td>Somewhat less welcome now than last year</td>\n",
       "      <td>40.0</td>\n",
       "      <td>7</td>\n",
       "      <td>4</td>\n",
       "    </tr>\n",
       "    <tr>\n",
       "      <th>4</th>\n",
       "      <td>5</td>\n",
       "      <td>I used to be a developer by profession, but no...</td>\n",
       "      <td>Yes</td>\n",
       "      <td>31.0</td>\n",
       "      <td>16</td>\n",
       "      <td>NaN</td>\n",
       "      <td>NaN</td>\n",
       "      <td>NaN</td>\n",
       "      <td>United States</td>\n",
       "      <td>NaN</td>\n",
       "      <td>...</td>\n",
       "      <td>Easy</td>\n",
       "      <td>Too short</td>\n",
       "      <td>No</td>\n",
       "      <td>Computer science, computer engineering, or sof...</td>\n",
       "      <td>Django;Ruby on Rails</td>\n",
       "      <td>Ruby on Rails</td>\n",
       "      <td>Just as welcome now as I felt last year</td>\n",
       "      <td>NaN</td>\n",
       "      <td>15</td>\n",
       "      <td>8</td>\n",
       "    </tr>\n",
       "  </tbody>\n",
       "</table>\n",
       "<p>5 rows × 61 columns</p>\n",
       "</div>"
      ],
      "text/plain": [
       "   Respondent                                         MainBranch Hobbyist  \\\n",
       "0           1                     I am a developer by profession      Yes   \n",
       "1           2                     I am a developer by profession       No   \n",
       "2           3                        I code primarily as a hobby      Yes   \n",
       "3           4                     I am a developer by profession      Yes   \n",
       "4           5  I used to be a developer by profession, but no...      Yes   \n",
       "\n",
       "    Age Age1stCode CompFreq  CompTotal  ConvertedComp             Country  \\\n",
       "0   NaN         13  Monthly        NaN            NaN             Germany   \n",
       "1   NaN         19      NaN        NaN            NaN      United Kingdom   \n",
       "2   NaN         15      NaN        NaN            NaN  Russian Federation   \n",
       "3  25.0         18      NaN        NaN            NaN             Albania   \n",
       "4  31.0         16      NaN        NaN            NaN       United States   \n",
       "\n",
       "     CurrencyDesc  ...                  SurveyEase           SurveyLength  \\\n",
       "0   European Euro  ...  Neither easy nor difficult  Appropriate in length   \n",
       "1  Pound sterling  ...                         NaN                    NaN   \n",
       "2             NaN  ...  Neither easy nor difficult  Appropriate in length   \n",
       "3    Albanian lek  ...                         NaN                    NaN   \n",
       "4             NaN  ...                        Easy              Too short   \n",
       "\n",
       "  Trans                                     UndergradMajor  \\\n",
       "0    No  Computer science, computer engineering, or sof...   \n",
       "1   NaN  Computer science, computer engineering, or sof...   \n",
       "2   NaN                                                NaN   \n",
       "3    No  Computer science, computer engineering, or sof...   \n",
       "4    No  Computer science, computer engineering, or sof...   \n",
       "\n",
       "  WebframeDesireNextYear    WebframeWorkedWith  \\\n",
       "0           ASP.NET Core  ASP.NET;ASP.NET Core   \n",
       "1                    NaN                   NaN   \n",
       "2                    NaN                   NaN   \n",
       "3                    NaN                   NaN   \n",
       "4   Django;Ruby on Rails         Ruby on Rails   \n",
       "\n",
       "                              WelcomeChange WorkWeekHrs YearsCode YearsCodePro  \n",
       "0   Just as welcome now as I felt last year        50.0        36           27  \n",
       "1  Somewhat more welcome now than last year         NaN         7            4  \n",
       "2  Somewhat more welcome now than last year         NaN         4          NaN  \n",
       "3  Somewhat less welcome now than last year        40.0         7            4  \n",
       "4   Just as welcome now as I felt last year         NaN        15            8  \n",
       "\n",
       "[5 rows x 61 columns]"
      ]
     },
     "execution_count": 4,
     "metadata": {},
     "output_type": "execute_result"
    }
   ],
   "source": [
    "# your code goes here\n",
    "df_survey.head()"
   ]
  },
  {
   "cell_type": "markdown",
   "metadata": {},
   "source": [
    "## Find out the number of rows and columns\n"
   ]
  },
  {
   "cell_type": "markdown",
   "metadata": {},
   "source": [
    "Start by exploring the numbers of rows and columns of data in the dataset.\n"
   ]
  },
  {
   "cell_type": "markdown",
   "metadata": {},
   "source": [
    "Print the number of rows in the dataset.\n"
   ]
  },
  {
   "cell_type": "code",
   "execution_count": 5,
   "metadata": {
    "tags": []
   },
   "outputs": [
    {
     "name": "stdout",
     "output_type": "stream",
     "text": [
      "The number of rows in the dataset is 64461.\n"
     ]
    }
   ],
   "source": [
    " # your code goes here\n",
    "print('The number of rows in the dataset is ' + str(df_survey.shape[0]) + '.')"
   ]
  },
  {
   "cell_type": "markdown",
   "metadata": {},
   "source": [
    "Print the number of columns in the dataset.\n"
   ]
  },
  {
   "cell_type": "code",
   "execution_count": 6,
   "metadata": {
    "tags": []
   },
   "outputs": [
    {
     "name": "stdout",
     "output_type": "stream",
     "text": [
      "The number of columns in the dataframe is 61.\n"
     ]
    }
   ],
   "source": [
    "# your code goes here\n",
    "print('The number of columns in the dataframe is ' + str(df_survey.shape[1]) + '.')"
   ]
  },
  {
   "cell_type": "markdown",
   "metadata": {},
   "source": [
    "## Identify the data types of each column\n"
   ]
  },
  {
   "cell_type": "markdown",
   "metadata": {},
   "source": [
    "Explore the dataset and identify the data types of each column.\n"
   ]
  },
  {
   "cell_type": "markdown",
   "metadata": {},
   "source": [
    "Print the datatype of all columns.\n"
   ]
  },
  {
   "cell_type": "code",
   "execution_count": 10,
   "metadata": {
    "tags": []
   },
   "outputs": [
    {
     "name": "stdout",
     "output_type": "stream",
     "text": [
      "Respondent                        int64\n",
      "MainBranch                       object\n",
      "Hobbyist                         object\n",
      "Age                             float64\n",
      "Age1stCode                       object\n",
      "CompFreq                         object\n",
      "CompTotal                       float64\n",
      "ConvertedComp                   float64\n",
      "Country                          object\n",
      "CurrencyDesc                     object\n",
      "CurrencySymbol                   object\n",
      "DatabaseDesireNextYear           object\n",
      "DatabaseWorkedWith               object\n",
      "DevType                          object\n",
      "EdLevel                          object\n",
      "Employment                       object\n",
      "Ethnicity                        object\n",
      "Gender                           object\n",
      "JobFactors                       object\n",
      "JobSat                           object\n",
      "JobSeek                          object\n",
      "LanguageDesireNextYear           object\n",
      "LanguageWorkedWith               object\n",
      "MiscTechDesireNextYear           object\n",
      "MiscTechWorkedWith               object\n",
      "NEWCollabToolsDesireNextYear     object\n",
      "NEWCollabToolsWorkedWith         object\n",
      "NEWDevOps                        object\n",
      "NEWDevOpsImpt                    object\n",
      "NEWEdImpt                        object\n",
      "NEWJobHunt                       object\n",
      "NEWJobHuntResearch               object\n",
      "NEWLearn                         object\n",
      "NEWOffTopic                      object\n",
      "NEWOnboardGood                   object\n",
      "NEWOtherComms                    object\n",
      "NEWOvertime                      object\n",
      "NEWPurchaseResearch              object\n",
      "NEWPurpleLink                    object\n",
      "NEWSOSites                       object\n",
      "NEWStuck                         object\n",
      "OpSys                            object\n",
      "OrgSize                          object\n",
      "PlatformDesireNextYear           object\n",
      "PlatformWorkedWith               object\n",
      "PurchaseWhat                     object\n",
      "Sexuality                        object\n",
      "SOAccount                        object\n",
      "SOComm                           object\n",
      "SOPartFreq                       object\n",
      "SOVisitFreq                      object\n",
      "SurveyEase                       object\n",
      "SurveyLength                     object\n",
      "Trans                            object\n",
      "UndergradMajor                   object\n",
      "WebframeDesireNextYear           object\n",
      "WebframeWorkedWith               object\n",
      "WelcomeChange                    object\n",
      "WorkWeekHrs                     float64\n",
      "YearsCode                        object\n",
      "YearsCodePro                     object\n",
      "dtype: object\n"
     ]
    }
   ],
   "source": [
    "# your code goes here\n",
    "# option 1 (doesn't show all columns):\n",
    "#df_survey.dtypes\n",
    "\n",
    "# option 2 (prints more info than needed):\n",
    "#df_survey.info(verbose=True)\n",
    "\n",
    "# option 3 (works, but wordy)\n",
    "with pd.option_context('display.max_rows', None, 'display.max_columns', None):\n",
    "    print(df_survey.dtypes)"
   ]
  },
  {
   "cell_type": "markdown",
   "metadata": {},
   "source": [
    "Print the mean age of the survey participants.\n"
   ]
  },
  {
   "cell_type": "code",
   "execution_count": 12,
   "metadata": {
    "tags": []
   },
   "outputs": [
    {
     "name": "stdout",
     "output_type": "stream",
     "text": [
      "The mean age of the survey participants is  30.83411081283281\n"
     ]
    }
   ],
   "source": [
    "# your code goes here\n",
    "print('The mean age of the survey participants is ', df_survey['Age'].mean())"
   ]
  },
  {
   "cell_type": "markdown",
   "metadata": {},
   "source": [
    "The dataset is the result of a world wide survey. Print how many unique countries are there in the Country column.\n"
   ]
  },
  {
   "cell_type": "code",
   "execution_count": 13,
   "metadata": {
    "tags": []
   },
   "outputs": [
    {
     "name": "stdout",
     "output_type": "stream",
     "text": [
      "There are 183 unique countries in the survey:\n",
      "\n",
      "Country                               Respondants\n",
      "United States                                12469\n",
      "India                                         8403\n",
      "United Kingdom                                3896\n",
      "Germany                                       3890\n",
      "Canada                                        2191\n",
      "France                                        1898\n",
      "Brazil                                        1818\n",
      "Netherlands                                   1343\n",
      "Poland                                        1278\n",
      "Australia                                     1208\n",
      "Spain                                         1161\n",
      "Italy                                         1117\n",
      "Russian Federation                            1092\n",
      "Sweden                                         886\n",
      "Pakistan                                       809\n",
      "Turkey                                         777\n",
      "Israel                                         653\n",
      "Switzerland                                    629\n",
      "Bangladesh                                     609\n",
      "Romania                                        604\n",
      "Nigeria                                        593\n",
      "Mexico                                         540\n",
      "Austria                                        539\n",
      "Ukraine                                        539\n",
      "Czech Republic                                 500\n",
      "Indonesia                                      499\n",
      "South Africa                                   494\n",
      "Iran                                           491\n",
      "Belgium                                        459\n",
      "Ireland                                        444\n",
      "Philippines                                    405\n",
      "Denmark                                        397\n",
      "Argentina                                      395\n",
      "Greece                                         390\n",
      "Portugal                                       388\n",
      "Norway                                         384\n",
      "Hungary                                        371\n",
      "China                                          371\n",
      "Viet Nam                                       364\n",
      "New Zealand                                    353\n",
      "Finland                                        349\n",
      "Bulgaria                                       323\n",
      "Serbia                                         306\n",
      "Japan                                          297\n",
      "Sri Lanka                                      295\n",
      "Colombia                                       285\n",
      "Egypt                                          281\n",
      "Kenya                                          271\n",
      "Nepal                                          242\n",
      "Malaysia                                       231\n",
      "Singapore                                      228\n",
      "South Korea                                    201\n",
      "Slovakia                                       188\n",
      "Croatia                                        185\n",
      "Chile                                          181\n",
      "Morocco                                        176\n",
      "Lithuania                                      171\n",
      "Taiwan                                         158\n",
      "Slovenia                                       157\n",
      "Thailand                                       148\n",
      "Estonia                                        145\n",
      "Belarus                                        129\n",
      "Tunisia                                        125\n",
      "United Arab Emirates                           115\n",
      "Latvia                                         111\n",
      "Hong Kong (S.A.R.)                             111\n",
      "Ghana                                          105\n",
      "Peru                                           101\n",
      "Uruguay                                        100\n",
      "Bosnia and Herzegovina                          96\n",
      "Algeria                                         94\n",
      "Saudi Arabia                                    90\n",
      "Republic of Korea                               88\n",
      "Afghanistan                                     84\n",
      "Uganda                                          81\n",
      "Costa Rica                                      76\n",
      "Dominican Republic                              72\n",
      "Lebanon                                         71\n",
      "Venezuela, Bolivarian Republic of...            70\n",
      "Georgia                                         67\n",
      "Armenia                                         64\n",
      "Kazakhstan                                      61\n",
      "Ethiopia                                        59\n",
      "Jordan                                          57\n",
      "Albania                                         54\n",
      "Iceland                                         53\n",
      "Myanmar                                         51\n",
      "Azerbaijan                                      50\n",
      "Republic of Moldova                             50\n",
      "Cyprus                                          50\n",
      "Cameroon                                        50\n",
      "Guatemala                                       49\n",
      "Ecuador                                         49\n",
      "Malta                                           47\n",
      "Iraq                                            44\n",
      "Luxembourg                                      42\n",
      "Uzbekistan                                      41\n",
      "Bolivia                                         40\n",
      "The former Yugoslav Republic of Macedonia       38\n",
      "Nicaragua                                       35\n",
      "Sudan                                           34\n",
      "Kosovo                                          34\n",
      "Rwanda                                          31\n",
      "United Republic of Tanzania                     31\n",
      "Nomadic                                         31\n",
      "Zimbabwe                                        31\n",
      "Cambodia                                        31\n",
      "Paraguay                                        26\n",
      "El Salvador                                     26\n",
      "Senegal                                         26\n",
      "Panama                                          24\n",
      "Cuba                                            22\n",
      "Zambia                                          21\n",
      "Madagascar                                      21\n",
      "Honduras                                        21\n",
      "Qatar                                           20\n",
      "Somalia                                         18\n",
      "Mauritius                                       18\n",
      "Kuwait                                          18\n",
      "Côte d'Ivoire                                   17\n",
      "Kyrgyzstan                                      16\n",
      "Jamaica                                         14\n",
      "Andorra                                         13\n",
      "Syrian Arab Republic                            13\n",
      "Montenegro                                      13\n",
      "Mongolia                                        12\n",
      "Oman                                            11\n",
      "Maldives                                        10\n",
      "Togo                                            10\n",
      "Bahrain                                          9\n",
      "Benin                                            9\n",
      "Angola                                           9\n",
      "Isle of Man                                      8\n",
      "Congo, Republic of the...                        8\n",
      "Botswana                                         8\n",
      "Malawi                                           8\n",
      "Libyan Arab Jamahiriya                           8\n",
      "Namibia                                          8\n",
      "Democratic Republic of the Congo                 7\n",
      "Lao People's Democratic Republic                 7\n",
      "Bhutan                                           7\n",
      "Swaziland                                        7\n",
      "Yemen                                            7\n",
      "Mozambique                                       7\n",
      "Trinidad and Tobago                              7\n",
      "Burkina Faso                                     6\n",
      "Sierra Leone                                     6\n",
      "Niger                                            5\n",
      "Guyana                                           5\n",
      "Barbados                                         5\n",
      "Guinea                                           5\n",
      "Haiti                                            5\n",
      "Turkmenistan                                     4\n",
      "Tajikistan                                       4\n",
      "Mauritania                                       4\n",
      "Gambia                                           4\n",
      "Belize                                           4\n",
      "Saint Vincent and the Grenadines                 3\n",
      "Eritrea                                          3\n",
      "Brunei Darussalam                                3\n",
      "Bahamas                                          3\n",
      "Solomon Islands                                  2\n",
      "Monaco                                           2\n",
      "Timor-Leste                                      2\n",
      "Burundi                                          2\n",
      "Djibouti                                         2\n",
      "Cape Verde                                       2\n",
      "San Marino                                       2\n",
      "Papua New Guinea                                 2\n",
      "Antigua and Barbuda                              2\n",
      "Gabon                                            1\n",
      "Liechtenstein                                    1\n",
      "North Korea                                      1\n",
      "Fiji                                             1\n",
      "Micronesia, Federated States of...               1\n",
      "Mali                                             1\n",
      "Chad                                             1\n",
      "Grenada                                          1\n",
      "Kiribati                                         1\n",
      "Nauru                                            1\n",
      "Lesotho                                          1\n",
      "Saint Lucia                                      1\n",
      "Marshall Islands                                 1\n",
      "Name: Country, dtype: int64\n"
     ]
    }
   ],
   "source": [
    "# your code goes here\n",
    "print('There are', df_survey['Country'].nunique(), 'unique countries in the survey:')\n",
    "\n",
    "print('\\nCountry                               Respondants')      \n",
    "\n",
    "with pd.option_context('display.max_rows', None, 'display.max_columns', None):\n",
    "    print(df_survey['Country'].value_counts())"
   ]
  },
  {
   "cell_type": "markdown",
   "metadata": {},
   "source": [
    "## Authors\n"
   ]
  },
  {
   "cell_type": "markdown",
   "metadata": {},
   "source": [
    "Ramesh Sannareddy\n"
   ]
  },
  {
   "cell_type": "markdown",
   "metadata": {},
   "source": [
    "### Other Contributors\n"
   ]
  },
  {
   "cell_type": "markdown",
   "metadata": {},
   "source": [
    "Rav Ahuja\n"
   ]
  },
  {
   "cell_type": "markdown",
   "metadata": {},
   "source": [
    "## Change Log\n"
   ]
  },
  {
   "cell_type": "markdown",
   "metadata": {},
   "source": [
    "| Date (YYYY-MM-DD) | Version | Changed By        | Change Description                 |\n",
    "| ----------------- | ------- | ----------------- | ---------------------------------- |\n",
    "| 2020-10-17        | 0.1     | Ramesh Sannareddy | Created initial version of the lab |\n"
   ]
  },
  {
   "cell_type": "markdown",
   "metadata": {},
   "source": [
    " Copyright © 2020 IBM Corporation. This notebook and its source code are released under the terms of the [MIT License](https://cognitiveclass.ai/mit-license?utm_medium=Exinfluencer&utm_source=Exinfluencer&utm_content=000026UJ&utm_term=10006555&utm_id=NA-SkillsNetwork-Channel-SkillsNetworkCoursesIBMDA0321ENSkillsNetwork928-2023-01-01&cm_mmc=Email_Newsletter-_-Developer_Ed%2BTech-_-WW_WW-_-SkillsNetwork-Courses-IBM-DA0321EN-SkillsNetwork-21426264&cm_mmca1=000026UJ&cm_mmca2=10006555&cm_mmca3=M12345678&cvosrc=email.Newsletter.M12345678&cvo_campaign=000026UJ).\n"
   ]
  }
 ],
 "metadata": {
  "kernelspec": {
   "display_name": "Python",
   "language": "python",
   "name": "conda-env-python-py"
  },
  "language_info": {
   "codemirror_mode": {
    "name": "ipython",
    "version": 3
   },
   "file_extension": ".py",
   "mimetype": "text/x-python",
   "name": "python",
   "nbconvert_exporter": "python",
   "pygments_lexer": "ipython3",
   "version": "3.7.12"
  }
 },
 "nbformat": 4,
 "nbformat_minor": 4
}
